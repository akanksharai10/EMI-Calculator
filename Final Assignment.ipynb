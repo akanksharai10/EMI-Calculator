{
 "cells": [
  {
   "cell_type": "markdown",
   "id": "cc68162f",
   "metadata": {},
   "source": [
    "#### Question 1 : Let’s calculate the Home Loan EMI now using Python code. Principal Amount 50Lakhs, Rate of interest 8%, and Loan repayment tenure is 15 years. Find the EMI to be paid?"
   ]
  },
  {
   "cell_type": "code",
   "execution_count": 1,
   "id": "5d2db9ea",
   "metadata": {},
   "outputs": [
    {
     "name": "stdout",
     "output_type": "stream",
     "text": [
      "EMI to be paid: 47782.60 INR\n"
     ]
    }
   ],
   "source": [
    "def calculate_home_loan_emi(principal, interest_rate, tenure_years):\n",
    "    # Convert interest rate from percentage to decimal\n",
    "    interest_rate = interest_rate / 100.0\n",
    "\n",
    "    # Convert tenure from years to months\n",
    "    tenure_months = tenure_years * 12\n",
    "\n",
    "    # Calculate monthly interest rate\n",
    "    monthly_interest_rate = interest_rate / 12\n",
    "\n",
    "    # Calculate EMI\n",
    "    emi_numerator = principal * monthly_interest_rate * ((1 + monthly_interest_rate) ** tenure_months)\n",
    "    emi_denominator = ((1 + monthly_interest_rate) ** tenure_months) - 1\n",
    "    emi = emi_numerator / emi_denominator\n",
    "\n",
    "    return emi\n",
    "\n",
    "# Input values\n",
    "principal_amount = 5000000  # 50 lakhs\n",
    "rate_of_interest = 8.0       # 8%\n",
    "loan_tenure_years = 15\n",
    "\n",
    "# Calculate EMI\n",
    "emi = calculate_home_loan_emi(principal_amount, rate_of_interest, loan_tenure_years)\n",
    "\n",
    "# Display the result\n",
    "print(\"EMI to be paid: {:.2f} INR\".format(emi))"
   ]
  },
  {
   "cell_type": "markdown",
   "id": "8d584f32",
   "metadata": {},
   "source": [
    "#### Question 2: If the interest rate increases to 10%, and you cannot pay more than 30,000 as EMI, find the maximum amount of Loan you can take/afford for the same period?"
   ]
  },
  {
   "cell_type": "code",
   "execution_count": 2,
   "id": "f1ad8067",
   "metadata": {},
   "outputs": [
    {
     "name": "stdout",
     "output_type": "stream",
     "text": [
      "Maximum affordable loan amount: 2791723.00 INR\n"
     ]
    }
   ],
   "source": [
    "def calculate_home_loan_emi(principal, interest_rate, tenure_years):\n",
    "    # Convert interest rate from percentage to decimal\n",
    "    interest_rate = interest_rate / 100.0\n",
    "\n",
    "    # Convert tenure from years to months\n",
    "    tenure_months = tenure_years * 12\n",
    "\n",
    "    # Calculate monthly interest rate\n",
    "    monthly_interest_rate = interest_rate / 12\n",
    "\n",
    "    # Calculate EMI\n",
    "    emi_numerator = principal * monthly_interest_rate * ((1 + monthly_interest_rate) ** tenure_months)\n",
    "    emi_denominator = ((1 + monthly_interest_rate) ** tenure_months) - 1\n",
    "    emi = emi_numerator / emi_denominator\n",
    "\n",
    "    return emi\n",
    "\n",
    "def find_max_loan_amount(max_emi, interest_rate, tenure_years):\n",
    "    # Set an initial guess for the principal amount\n",
    "    low_principal = 1\n",
    "    high_principal = 10 ** 20  # A large upper limit for binary search\n",
    "\n",
    "    # Perform binary search to find the maximum affordable loan amount\n",
    "    while low_principal + 1 < high_principal:\n",
    "        mid_principal = (low_principal + high_principal) // 2\n",
    "        emi = calculate_home_loan_emi(mid_principal, interest_rate, tenure_years)\n",
    "\n",
    "        if emi <= max_emi:\n",
    "            low_principal = mid_principal\n",
    "        else:\n",
    "            high_principal = mid_principal\n",
    "\n",
    "    return low_principal\n",
    "\n",
    "# Input values\n",
    "new_rate_of_interest = 10.0     # 10%\n",
    "max_affordable_emi = 30000\n",
    "loan_tenure_years = 15\n",
    "\n",
    "# Calculate the maximum loan amount\n",
    "max_loan_amount = find_max_loan_amount(max_affordable_emi, new_rate_of_interest, loan_tenure_years)\n",
    "\n",
    "# Display the result\n",
    "print(\"Maximum affordable loan amount: {:.2f} INR\".format(max_loan_amount))"
   ]
  },
  {
   "cell_type": "markdown",
   "id": "4d46a92c",
   "metadata": {},
   "source": [
    "#### Question 3: For the Que 1. what is the total interest paid by you year-wise (from the 1st year to the 15th year). Also, what is the total cumulative interest paid by you in 15 years?"
   ]
  },
  {
   "cell_type": "code",
   "execution_count": 3,
   "id": "5fd48523",
   "metadata": {},
   "outputs": [
    {
     "name": "stdout",
     "output_type": "stream",
     "text": [
      "Total interest paid year-wise:\n",
      "Year 1: 87261.24 INR\n",
      "Year 2: 95090.61 INR\n",
      "Year 3: 66048.21 INR\n",
      "Year 4: 51456.04 INR\n",
      "Year 5: 42737.32 INR\n",
      "Year 6: 36955.48 INR\n",
      "Year 7: 32851.65 INR\n",
      "Year 8: 29796.41 INR\n",
      "Year 9: 27440.04 INR\n",
      "Year 10: 25572.68 INR\n",
      "Year 11: 24060.77 INR\n",
      "Year 12: 22815.26 INR\n",
      "Year 13: 21774.49 INR\n",
      "Year 14: 20894.39 INR\n",
      "Year 15: 20142.64 INR\n",
      "Total cumulative interest paid in 15 years: 20142.64 INR\n"
     ]
    }
   ],
   "source": [
    "def calculate_home_loan_emi(principal, interest_rate, tenure_years):\n",
    "    # Convert interest rate from percentage to decimal\n",
    "    interest_rate = interest_rate / 100.0\n",
    "\n",
    "    # Convert tenure from years to months\n",
    "    tenure_months = tenure_years * 12\n",
    "\n",
    "    # Calculate monthly interest rate\n",
    "    monthly_interest_rate = interest_rate / 12\n",
    "\n",
    "    # Calculate EMI\n",
    "    emi_numerator = principal * monthly_interest_rate * ((1 + monthly_interest_rate) ** tenure_months)\n",
    "    emi_denominator = ((1 + monthly_interest_rate) ** tenure_months) - 1\n",
    "    emi = emi_numerator / emi_denominator\n",
    "\n",
    "    return emi\n",
    "\n",
    "def calculate_total_interest_paid(principal, interest_rate, tenure_years):\n",
    "    total_interest_paid = 0\n",
    "    emi = calculate_home_loan_emi(principal, interest_rate, tenure_years)\n",
    "\n",
    "    for year in range(1, tenure_years + 1):\n",
    "        # Calculate interest paid for the current year\n",
    "        monthly_interest_rate = interest_rate / 12\n",
    "        months_remaining = (tenure_years - year + 1) * 12\n",
    "        interest_paid_this_year = principal * monthly_interest_rate * months_remaining / ((1 + monthly_interest_rate) ** months_remaining - 1)\n",
    "\n",
    "        # Calculate outstanding principal at the end of the year\n",
    "        outstanding_principal = emi * months_remaining - interest_paid_this_year\n",
    "\n",
    "        # Update the total interest paid\n",
    "        total_interest_paid += interest_paid_this_year\n",
    "\n",
    "        # Update the principal for the next iteration\n",
    "        principal = outstanding_principal\n",
    "\n",
    "    return total_interest_paid\n",
    "\n",
    "# Input values\n",
    "principal_amount = 5000000  # 50 lakhs\n",
    "rate_of_interest = 8.0       # 8%\n",
    "loan_tenure_years = 15\n",
    "\n",
    "# Calculate EMI\n",
    "emi = calculate_home_loan_emi(principal_amount, rate_of_interest, loan_tenure_years)\n",
    "\n",
    "# Calculate and display total interest paid year-wise\n",
    "print(\"Total interest paid year-wise:\")\n",
    "for year in range(1, loan_tenure_years + 1):\n",
    "    interest_paid_this_year = calculate_total_interest_paid(principal_amount, rate_of_interest, year)\n",
    "    print(\"Year {}: {:.2f} INR\".format(year, interest_paid_this_year))\n",
    "\n",
    "# Calculate and display total cumulative interest paid in 15 years\n",
    "total_cumulative_interest = calculate_total_interest_paid(principal_amount, rate_of_interest, loan_tenure_years)\n",
    "print(\"Total cumulative interest paid in 15 years: {:.2f} INR\".format(total_cumulative_interest))"
   ]
  },
  {
   "cell_type": "markdown",
   "id": "091e3fce",
   "metadata": {},
   "source": [
    "#### Question 4: For the Que 1., in how many months would you have paid at least 50% of the Principal amount."
   ]
  },
  {
   "cell_type": "code",
   "execution_count": 5,
   "id": "9113e554",
   "metadata": {},
   "outputs": [
    {
     "name": "stdout",
     "output_type": "stream",
     "text": [
      "Months to repay at least 50% of the Principal amount:  116\n"
     ]
    }
   ],
   "source": [
    "def calculate_emi(principal, rate, tenure):\n",
    "    rate = rate / (12 * 100)  # Convert annual rate to monthly rate\n",
    "    tenure = tenure * 12  # Convert loan tenure from years to months\n",
    "\n",
    "    emi = principal * rate * ((1 + rate) ** tenure) / (((1 + rate) ** tenure) - 1)\n",
    "    return emi\n",
    "\n",
    "def calculate_months_to_repay_half(principal, rate, emi):\n",
    "    remaining_principal = principal\n",
    "    months = 0\n",
    "\n",
    "    while remaining_principal >= (principal / 2):\n",
    "        interest = remaining_principal * (rate / (12 * 100))\n",
    "        principal_paid = emi - interest\n",
    "        remaining_principal -= principal_paid\n",
    "        months += 1\n",
    "\n",
    "    return months\n",
    "\n",
    "principal_amount = 5000000  # 50 Lakhs\n",
    "rate_of_interest = 8  # 8%\n",
    "loan_tenure = 15  # 15 years\n",
    "\n",
    "emi = calculate_emi(principal_amount, rate_of_interest, loan_tenure)\n",
    "\n",
    "months_to_repay_half = calculate_months_to_repay_half(principal_amount, rate_of_interest, emi)\n",
    "print(\"Months to repay at least 50% of the Principal amount: \", months_to_repay_half)"
   ]
  }
 ],
 "metadata": {
  "kernelspec": {
   "display_name": "Python 3 (ipykernel)",
   "language": "python",
   "name": "python3"
  },
  "language_info": {
   "codemirror_mode": {
    "name": "ipython",
    "version": 3
   },
   "file_extension": ".py",
   "mimetype": "text/x-python",
   "name": "python",
   "nbconvert_exporter": "python",
   "pygments_lexer": "ipython3",
   "version": "3.9.13"
  }
 },
 "nbformat": 4,
 "nbformat_minor": 5
}
